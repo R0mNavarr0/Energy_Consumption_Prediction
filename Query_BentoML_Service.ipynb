{
 "cells": [
  {
   "cell_type": "code",
   "execution_count": 3,
   "id": "eaba4f80",
   "metadata": {},
   "outputs": [
    {
     "name": "stdout",
     "output_type": "stream",
     "text": [
      "{'Energy consumption (Kbtu)': 2316168.0, 'CO2 emissions (Metric tons)': 38.54651000656959}\n"
     ]
    }
   ],
   "source": [
    "import bentoml\n",
    "import numpy as np\n",
    "\n",
    "with bentoml.SyncHTTPClient(\"http://localhost:3000\") as client:\n",
    "    result = client.energy_predict(\n",
    "        data = {'PropertyGFATotal': np.expm1(11.547974025246631),\n",
    "                'PropertyGFABuilding(s)': np.expm1(11.39079172872657),\n",
    "                'LargestPropertyUseTypeGFA': np.expm1(11.33715440673783),\n",
    "                'Electricity_Part': 37.42695896660376,\n",
    "                'NaturalGas_Part': 59.38131998473308,\n",
    "                'BuildingAge': 3.4011973816621555\n",
    "                }\n",
    "    )\n",
    "    print(result)"
   ]
  }
 ],
 "metadata": {
  "kernelspec": {
   "display_name": "venv",
   "language": "python",
   "name": "python3"
  },
  "language_info": {
   "codemirror_mode": {
    "name": "ipython",
    "version": 3
   },
   "file_extension": ".py",
   "mimetype": "text/x-python",
   "name": "python",
   "nbconvert_exporter": "python",
   "pygments_lexer": "ipython3",
   "version": "3.12.3"
  }
 },
 "nbformat": 4,
 "nbformat_minor": 5
}
