{
 "cells": [
  {
   "cell_type": "code",
   "execution_count": 13,
   "id": "eaba4f80",
   "metadata": {},
   "outputs": [
    {
     "name": "stdout",
     "output_type": "stream",
     "text": [
      "{'predicted_energy': 8733905.0, 'predicted_co2': 149.43213155219078}\n"
     ]
    }
   ],
   "source": [
    "import bentoml\n",
    "import numpy as np\n",
    "\n",
    "with bentoml.SyncHTTPClient(\"http://localhost:3000\") as client:\n",
    "    result = client.energy_predict(\n",
    "        data = {'PropertyGFATotal': np.expm1(11.547974025246631),\n",
    "                'PropertyGFABuilding(s)': np.expm1(11.39079172872657),\n",
    "                'LargestPropertyUseTypeGFA': np.expm1(11.33715440673783),\n",
    "                'Electricity_Part': np.expm1(37.42695896660376),\n",
    "                'NaturalGas_Part': np.expm1(59.38131998473308),\n",
    "                'BuildingAge': np.expm1(3.4011973816621555)\n",
    "                }\n",
    "    )\n",
    "    print(result)"
   ]
  }
 ],
 "metadata": {
  "kernelspec": {
   "display_name": "venv",
   "language": "python",
   "name": "python3"
  },
  "language_info": {
   "codemirror_mode": {
    "name": "ipython",
    "version": 3
   },
   "file_extension": ".py",
   "mimetype": "text/x-python",
   "name": "python",
   "nbconvert_exporter": "python",
   "pygments_lexer": "ipython3",
   "version": "3.12.3"
  }
 },
 "nbformat": 4,
 "nbformat_minor": 5
}
